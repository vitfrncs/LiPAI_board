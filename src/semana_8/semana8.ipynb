{
  "nbformat": 4,
  "nbformat_minor": 0,
  "metadata": {
    "colab": {
      "provenance": [],
      "gpuType": "T4",
      "authorship_tag": "ABX9TyNdcpDgdRnP7AHHuzxo90pq",
      "include_colab_link": true
    },
    "kernelspec": {
      "name": "python3",
      "display_name": "Python 3"
    },
    "language_info": {
      "name": "python"
    },
    "accelerator": "GPU"
  },
  "cells": [
    {
      "cell_type": "markdown",
      "metadata": {
        "id": "view-in-github",
        "colab_type": "text"
      },
      "source": [
        "<a href=\"https://colab.research.google.com/github/vitfrncs/LiPAI_board/blob/master/src/semana_8/semana8.ipynb\" target=\"_parent\"><img src=\"https://colab.research.google.com/assets/colab-badge.svg\" alt=\"Open In Colab\"/></a>"
      ]
    },
    {
      "cell_type": "markdown",
      "source": [
        "#SEMANA 8 - Redes Neurais Convolucionais"
      ],
      "metadata": {
        "id": "77zN47Uk_vDK"
      }
    },
    {
      "cell_type": "markdown",
      "source": [
        "#### QUESTAO 1\n",
        "\n",
        "Defina uma variável device no início do código e use o método .to(device) para enviar o modelo e cada lote de tensores (imagens e rótulos) para a GPU durante o loop de treinamento e avaliação.\n",
        "\n",
        "As linhas modificadas para atingir o objetivo do enunciado possuem o comentário \"QUESTAO 1\"."
      ],
      "metadata": {
        "id": "FyiBqWXtDelI"
      }
    },
    {
      "cell_type": "code",
      "execution_count": 60,
      "metadata": {
        "id": "depV9Zaa-7-K",
        "colab": {
          "base_uri": "https://localhost:8080/"
        },
        "outputId": "aa3544c2-48c9-4120-b632-b1939df4c9a4"
      },
      "outputs": [
        {
          "output_type": "stream",
          "name": "stdout",
          "text": [
            "Treinando em: cuda\n"
          ]
        }
      ],
      "source": [
        "import torch\n",
        "\n",
        "import torchvision\n",
        "from torchvision import transforms\n",
        "\n",
        "# QUESTAO 1:\n",
        "device = torch.device(\"cuda\" if torch.cuda.is_available() else \"cpu\")\n",
        "print(f\"Treinando em: {device}\")\n",
        "\n",
        "# MNIST dataset\n",
        "root_path = '/home/storopoli/Downloads' # mude isso no Colab se necessário\n",
        "\n",
        "# Pequena transformação para tensores e normalizando o tamanho\n",
        "trans = transforms.Compose([transforms.ToTensor(), transforms.Normalize((0.1307,), (0.3081,))])\n",
        "\n",
        "# Train/Test Datasets\n",
        "train_dataset = torchvision.datasets.MNIST(root=root_path, train=True, transform=trans, download=True)\n",
        "test_dataset = torchvision.datasets.MNIST(root=root_path, train=False, transform=trans)"
      ]
    },
    {
      "cell_type": "code",
      "execution_count": 61,
      "metadata": {
        "id": "ik1AXEuc-7-L",
        "outputId": "6f0dabfa-3fac-4ef2-dd6e-c31565ede09c",
        "colab": {
          "base_uri": "https://localhost:8080/"
        }
      },
      "outputs": [
        {
          "output_type": "execute_result",
          "data": {
            "text/plain": [
              "Dataset MNIST\n",
              "    Number of datapoints: 60000\n",
              "    Root location: /home/storopoli/Downloads\n",
              "    Split: Train\n",
              "    StandardTransform\n",
              "Transform: Compose(\n",
              "               ToTensor()\n",
              "               Normalize(mean=(0.1307,), std=(0.3081,))\n",
              "           )"
            ]
          },
          "metadata": {},
          "execution_count": 61
        }
      ],
      "source": [
        "train_dataset"
      ]
    },
    {
      "cell_type": "code",
      "execution_count": 62,
      "metadata": {
        "id": "bPl_BONj-7-L",
        "outputId": "5e7c529e-da5a-4154-dfbb-7e27dfc86b83",
        "colab": {
          "base_uri": "https://localhost:8080/"
        }
      },
      "outputs": [
        {
          "output_type": "execute_result",
          "data": {
            "text/plain": [
              "Dataset MNIST\n",
              "    Number of datapoints: 10000\n",
              "    Root location: /home/storopoli/Downloads\n",
              "    Split: Test\n",
              "    StandardTransform\n",
              "Transform: Compose(\n",
              "               ToTensor()\n",
              "               Normalize(mean=(0.1307,), std=(0.3081,))\n",
              "           )"
            ]
          },
          "metadata": {},
          "execution_count": 62
        }
      ],
      "source": [
        "test_dataset"
      ]
    },
    {
      "cell_type": "markdown",
      "source": [
        "#### QUESTÃO 2:  \n",
        "Divida o train_dataset original em conjuntos de treino e validação usando torch.utils.data.random_split. Em seguida, adicione um loop de validação (com model.eval() e torch.no_grad()) dentro do loop de épocas para calcular a perda e a acurácia de validação."
      ],
      "metadata": {
        "id": "dVyUb0eOIIlx"
      }
    },
    {
      "cell_type": "code",
      "execution_count": 63,
      "metadata": {
        "id": "EXRlcwux-7-M"
      },
      "outputs": [],
      "source": [
        "from torch.utils.data import random_split, DataLoader\n",
        "batch_size=32\n",
        "\n",
        "train_size = int(0.8 * len(train_dataset)) # pegamos 80% do train_dataset para treino\n",
        "val_size = len(train_dataset) - train_size # restante do train_dataset que será usando para validação\n",
        "\n",
        "# dividindo o train_dataset em dois subconjuntos aleátorios\n",
        "train_subset, val_subset = random_split(train_dataset, [train_size, val_size])\n",
        "\n",
        "#itera sobre o conjunto de treino:\n",
        "train_loader = DataLoader(dataset=train_subset, batch_size=batch_size, shuffle=True)\n",
        "\n",
        "# não precisa embaralhar pois a validação não altera pesos, só avalia eles :)\n",
        "val_loader = DataLoader(dataset=val_subset, batch_size=batch_size, shuffle=False)\n",
        "test_loader = DataLoader(dataset=test_dataset, batch_size=batch_size, shuffle=False)"
      ]
    },
    {
      "cell_type": "code",
      "execution_count": 64,
      "metadata": {
        "id": "Jn83HUH0-7-M"
      },
      "outputs": [],
      "source": [
        "import torch.nn as nn"
      ]
    },
    {
      "cell_type": "code",
      "execution_count": 65,
      "metadata": {
        "id": "dQB2VftK-7-N",
        "outputId": "0ffa40db-d350-47bb-f89d-671069300a6c",
        "colab": {
          "base_uri": "https://localhost:8080/"
        }
      },
      "outputs": [
        {
          "output_type": "stream",
          "name": "stdout",
          "text": [
            "ConvNet(\n",
            "  (layer1): Sequential(\n",
            "    (0): Conv2d(1, 32, kernel_size=(5, 5), stride=(1, 1), padding=(2, 2))\n",
            "    (1): ReLU()\n",
            "    (2): MaxPool2d(kernel_size=2, stride=2, padding=0, dilation=1, ceil_mode=False)\n",
            "  )\n",
            "  (layer2): Sequential(\n",
            "    (0): Conv2d(32, 64, kernel_size=(5, 5), stride=(1, 1), padding=(2, 2))\n",
            "    (1): ReLU()\n",
            "    (2): MaxPool2d(kernel_size=2, stride=2, padding=0, dilation=1, ceil_mode=False)\n",
            "  )\n",
            "  (fc1): Sequential(\n",
            "    (0): Linear(in_features=3136, out_features=1000, bias=True)\n",
            "    (1): ReLU()\n",
            "  )\n",
            "  (fc2): Linear(in_features=1000, out_features=10, bias=True)\n",
            ")\n"
          ]
        }
      ],
      "source": [
        "class ConvNet(nn.Module):\n",
        "    def __init__(self):\n",
        "        super(ConvNet, self).__init__()\n",
        "        self.layer1 = nn.Sequential(\n",
        "            nn.Conv2d(1, 32, kernel_size=5, stride=1, padding=2),\n",
        "            nn.ReLU(),\n",
        "            nn.MaxPool2d(kernel_size=2, stride=2))\n",
        "        self.layer2 = nn.Sequential(\n",
        "            nn.Conv2d(32, 64, kernel_size=5, stride=1, padding=2),\n",
        "            nn.ReLU(),\n",
        "            nn.MaxPool2d(kernel_size=2, stride=2))\n",
        "        self.fc1 = nn.Sequential(\n",
        "            nn.Linear(7 * 7 * 64, 1000),\n",
        "            nn.ReLU())\n",
        "        self.fc2 = nn.Linear(1000, 10)\n",
        "\n",
        "    def forward(self, x):\n",
        "        out = self.layer1(x)\n",
        "        out = self.layer2(out)\n",
        "        out = out.reshape(out.size(0), -1)\n",
        "        out = self.fc1(out)\n",
        "        out = self.fc2(out)\n",
        "        return out\n",
        "\n",
        "# Instancia o Model()\n",
        "model = ConvNet().to(device)  # <- move o modelo para GPU  - QUESTAO 1\n",
        "\n",
        "print(model)"
      ]
    },
    {
      "cell_type": "code",
      "execution_count": 66,
      "metadata": {
        "id": "yr2KlsLZ-7-N",
        "outputId": "e096a7d4-f564-47c4-af34-b7593f50688c",
        "colab": {
          "base_uri": "https://localhost:8080/"
        }
      },
      "outputs": [
        {
          "output_type": "execute_result",
          "data": {
            "text/plain": [
              "3199106"
            ]
          },
          "metadata": {},
          "execution_count": 66
        }
      ],
      "source": [
        "def count_parameters(model):\n",
        "    return sum(p.numel() for p in model.parameters() if p.requires_grad)\n",
        "\n",
        "count_parameters(model)"
      ]
    },
    {
      "cell_type": "code",
      "execution_count": 67,
      "metadata": {
        "id": "Qejm1h-1-7-N"
      },
      "outputs": [],
      "source": [
        "from torch.optim import Adam\n",
        "\n",
        "# Hiperparâmetros\n",
        "loss_fn = nn.CrossEntropyLoss()\n",
        "learning_rate = 0.001\n",
        "epochs = 6\n",
        "\n",
        "# Instânciar o Otimizador Adam\n",
        "optimizer = Adam(model.parameters(), lr=learning_rate)"
      ]
    },
    {
      "cell_type": "code",
      "execution_count": 68,
      "metadata": {
        "id": "GhCPbO5A-7-O",
        "outputId": "7eff7944-42cf-4861-d354-83ad84b0ed1a",
        "colab": {
          "base_uri": "https://localhost:8080/"
        }
      },
      "outputs": [
        {
          "output_type": "execute_result",
          "data": {
            "text/plain": [
              "True"
            ]
          },
          "metadata": {},
          "execution_count": 68
        }
      ],
      "source": [
        "# Isto tem que retornar True\n",
        "import torch\n",
        "torch.cuda.is_available()"
      ]
    },
    {
      "cell_type": "code",
      "execution_count": 69,
      "metadata": {
        "id": "B5ZA0lMe-7-P",
        "outputId": "a2a8e061-383b-4a20-bbd3-25038921322e",
        "colab": {
          "base_uri": "https://localhost:8080/",
          "height": 35
        }
      },
      "outputs": [
        {
          "output_type": "execute_result",
          "data": {
            "text/plain": [
              "'Tesla T4'"
            ],
            "application/vnd.google.colaboratory.intrinsic+json": {
              "type": "string"
            }
          },
          "metadata": {},
          "execution_count": 69
        }
      ],
      "source": [
        "# Sua GPU\n",
        "torch.cuda.get_device_name()"
      ]
    },
    {
      "cell_type": "markdown",
      "source": [
        "#### QUESTÃO 4\n",
        "Um ponto importante em aprendizagem profunda envolve salvar o modelo treinado para uso posterior. Demonstre como salvar o estado do modelo (model.state_dict()) com torch.save(). Salve o modelo que apresentou o melhor desempenho no conjunto de validação. Mostre também como carregar esses pesos de volta em uma instância do modelo.\n",
        "\n",
        "Para fazer isso, foi preciso criar uma variável para armazenar a melhor acurácia de validação e, dentro do loop de treino, salvar os pesos do modelo com torch.save(model.state_dict(), \"best_model.pth\") sempre que essa acurácia melhorar. Depois, para reutilizar, basta instanciar novamente o modelo com a mesma arquitetura, carregar os pesos com model.load_state_dict(torch.load(\"best_model.pth\")) e colocá-lo em modo de avaliação com model.eval().\n"
      ],
      "metadata": {
        "id": "p8Ha9GK0buwi"
      }
    },
    {
      "cell_type": "code",
      "execution_count": 70,
      "metadata": {
        "id": "zfCA7a3J-7-P",
        "outputId": "34547893-0118-4ddb-bef3-585ef9873a6d",
        "colab": {
          "base_uri": "https://localhost:8080/"
        }
      },
      "outputs": [
        {
          "output_type": "stream",
          "name": "stdout",
          "text": [
            "Época 1: acc: 96.70, loss: 0.5261\n",
            ">>> Novo melhor modelo salvo com acc=96.70%\n",
            "Época 2: acc: 98.58, loss: 0.2311\n",
            ">>> Novo melhor modelo salvo com acc=98.58%\n",
            "Época 3: acc: 98.98, loss: 0.1736\n",
            ">>> Novo melhor modelo salvo com acc=98.98%\n",
            "Época 4: acc: 99.16, loss: 0.1387\n",
            ">>> Novo melhor modelo salvo com acc=99.16%\n",
            "Época 5: acc: 99.25, loss: 0.1221\n",
            ">>> Novo melhor modelo salvo com acc=99.25%\n",
            "Época 6: acc: 99.41, loss: 0.1131\n",
            ">>> Novo melhor modelo salvo com acc=99.41%\n"
          ]
        }
      ],
      "source": [
        "\n",
        "# Treinar o Modelo\n",
        "total_step = len(train_loader) # quantos batches eu tenho\n",
        "\n",
        "# Listas vazias\n",
        "train_loss_list = []\n",
        "train_acc_list = []\n",
        "valid_acc_list = []\n",
        "valid_loss_list = []\n",
        "\n",
        "best_val_acc = 0.0\n",
        "best_model_path = \"best_model.pth\"\n",
        "\n",
        "for epoch in range(epochs):\n",
        "\n",
        "    # --- TREINAMENTO ---\n",
        "    model.train()\n",
        "    running_loss = 0.0\n",
        "    total = 0\n",
        "    correct = 0\n",
        "\n",
        "    for images, labels in train_loader:\n",
        "        images = images.to(device) # QUESTAO 1\n",
        "        labels = labels.to(device) # QUESTAO 1\n",
        "\n",
        "        # Gera a propagação (feed forward)\n",
        "        outputs = model(images)\n",
        "\n",
        "        # Calcula a função-custo\n",
        "        loss = loss_fn(outputs, labels)\n",
        "        running_loss += loss.item() * labels.shape[0]\n",
        "\n",
        "\n",
        "        # Retro-propagação (Backprop) e a otimização com Adam\n",
        "        optimizer.zero_grad()\n",
        "        loss.backward()\n",
        "        optimizer.step()\n",
        "\n",
        "        # Acuracia no treino\n",
        "        total += labels.size(0)\n",
        "        _, predicted = torch.max(outputs.data, 1)\n",
        "        correct += (predicted == labels).sum().item()\n",
        "\n",
        "    # médias por época (treino)\n",
        "    train_acc_list.append(100 * correct / total)\n",
        "    train_loss_list.append(running_loss / len(val_loader.dataset))\n",
        "\n",
        "    # --- VALIDAÇÃO ---\n",
        "    model.eval()\n",
        "    with torch.no_grad():\n",
        "      for images, labels in val_loader:\n",
        "        images, labels = images.to(device), labels.to(device)\n",
        "\n",
        "        output = model(images)\n",
        "        loss = loss_fn(output, labels)\n",
        "\n",
        "        # loss\n",
        "        running_loss += loss.item() *  images.shape[0]\n",
        "\n",
        "        # acurácia\n",
        "        _, predicted = torch.max(output, 1)\n",
        "        correct += (predicted == labels).sum().item()\n",
        "        total += labels.shape[0]\n",
        "\n",
        "    valid_loss = running_loss / len(val_loader.dataset)\n",
        "    valid_acc = 100 * correct / total\n",
        "\n",
        "    valid_loss_list.append(valid_loss)\n",
        "    valid_acc_list.append(valid_acc)\n",
        "\n",
        "    print(f\"Época {epoch + 1}: acc: {valid_acc:.2f}, loss: {valid_loss:.4f}\")\n",
        "    # Salvar melhor modelo\n",
        "    if valid_acc > best_val_acc:\n",
        "        best_val_acc = valid_acc\n",
        "        torch.save(model.state_dict(), best_model_path)\n",
        "        print(f\">>> Novo melhor modelo salvo com acc={best_val_acc:.2f}%\")\n"
      ]
    },
    {
      "cell_type": "code",
      "source": [
        "# PARA CARREGAR O MODELO SALVO:\n",
        "\n",
        "# criando nova instância do modelo (com a mesma arquitetura!!)\n",
        "best_model = ConvNet().to(device)\n",
        "\n",
        "# carregando os pesos salvos\n",
        "best_model.load_state_dict(torch.load(\"best_model.pth\", map_location=device))\n",
        "\n",
        "# colo em modo avaliação\n",
        "best_model.eval()\n"
      ],
      "metadata": {
        "colab": {
          "base_uri": "https://localhost:8080/"
        },
        "id": "62xLBx-EclWF",
        "outputId": "771e7d13-42f5-4c19-a85e-2316e14913fb"
      },
      "execution_count": 71,
      "outputs": [
        {
          "output_type": "execute_result",
          "data": {
            "text/plain": [
              "ConvNet(\n",
              "  (layer1): Sequential(\n",
              "    (0): Conv2d(1, 32, kernel_size=(5, 5), stride=(1, 1), padding=(2, 2))\n",
              "    (1): ReLU()\n",
              "    (2): MaxPool2d(kernel_size=2, stride=2, padding=0, dilation=1, ceil_mode=False)\n",
              "  )\n",
              "  (layer2): Sequential(\n",
              "    (0): Conv2d(32, 64, kernel_size=(5, 5), stride=(1, 1), padding=(2, 2))\n",
              "    (1): ReLU()\n",
              "    (2): MaxPool2d(kernel_size=2, stride=2, padding=0, dilation=1, ceil_mode=False)\n",
              "  )\n",
              "  (fc1): Sequential(\n",
              "    (0): Linear(in_features=3136, out_features=1000, bias=True)\n",
              "    (1): ReLU()\n",
              "  )\n",
              "  (fc2): Linear(in_features=1000, out_features=10, bias=True)\n",
              ")"
            ]
          },
          "metadata": {},
          "execution_count": 71
        }
      ]
    },
    {
      "cell_type": "markdown",
      "source": [
        "#### QUESTÃO 3:\n",
        "O treinamento imprime o custo e a acurácia no terminal, mas os resultados são mais fáceis de interpretar visualmente. Então, armazene o histórico de perda e acurácia de treino e validação a cada época em listas. Ao final do treinamento, utilize a biblioteca matplotlib para plotar gráficos da perda e da acurácia ao longo das épocas. Isso oferece uma visão clara sobre a convergência do modelo e o surgimento de overfitting."
      ],
      "metadata": {
        "id": "hCCl5ALjbJtY"
      }
    },
    {
      "cell_type": "code",
      "source": [
        "# QUESTAO 3\n",
        "\n",
        "from matplotlib import pyplot as plt\n",
        "\n",
        "epochs = list(range(1, 7))\n",
        "\n",
        "plt.figure('LOSS e ACC em treino e validação', figsize=(12,6))\n",
        "plt.suptitle('LOSS e ACC em treino e validação')\n",
        "\n",
        "# LOSS\n",
        "axis1 = plt.subplot(1,2,1)\n",
        "plt.plot(epochs, train_loss_list)\n",
        "plt.plot(epochs, valid_loss_list)\n",
        "plt.legend(['train', 'valid'])\n",
        "axis1.set_title('Perda (loss)')\n",
        "\n",
        "# ACC\n",
        "axis2 =plt.subplot(1,2,2)\n",
        "plt.plot(epochs, train_acc_list)\n",
        "plt.plot(epochs, valid_acc_list)\n",
        "plt.legend(['train', 'valid'])\n",
        "axis2.set_title('Acurácia (acc)')\n",
        "\n",
        "\n",
        "plt.show()"
      ],
      "metadata": {
        "colab": {
          "base_uri": "https://localhost:8080/",
          "height": 485
        },
        "id": "Br5aDeHAbUyp",
        "outputId": "6ddc90ec-2d2c-4511-92ee-9c05fc879a52"
      },
      "execution_count": 72,
      "outputs": [
        {
          "output_type": "display_data",
          "data": {
            "text/plain": [
              "<Figure size 1200x600 with 2 Axes>"
            ],
            "image/png": "[encoded data removed]"
          },
          "metadata": {}
        }
      ]
    },
    {
      "cell_type": "code",
      "execution_count": 73,
      "metadata": {
        "id": "-2A0EBN9-7-P",
        "outputId": "228ff0d3-1435-4de8-ca12-c5d77db9eb82",
        "colab": {
          "base_uri": "https://localhost:8080/"
        }
      },
      "outputs": [
        {
          "output_type": "stream",
          "name": "stdout",
          "text": [
            "Acurácia do Modelo em 10k imagens de teste: 99.13\n"
          ]
        }
      ],
      "source": [
        "model.eval() # coloca o modelo em modo de avaliação (sem calcular gradientes)\n",
        "\n",
        "with torch.no_grad():\n",
        "    correct = 0\n",
        "    total = 0\n",
        "    for images, labels in test_loader:\n",
        "        images = images.to(device)   # QUESTAO 1\n",
        "        labels = labels.to(device)   # QUESTAO 1\n",
        "\n",
        "        # Feed-forward com as imagens de teste\n",
        "        outputs = model(images)\n",
        "\n",
        "        # gera predições usando a função max()\n",
        "        _, predicted = torch.max(outputs.data, 1)\n",
        "\n",
        "        # Acumula total e corretas\n",
        "        total += labels.size(0)\n",
        "        correct += (predicted == labels).sum().item()\n",
        "\n",
        "    print(f\"Acurácia do Modelo em 10k imagens de teste: {round((correct / total) * 100, 3)}\")"
      ]
    }
  ]
}